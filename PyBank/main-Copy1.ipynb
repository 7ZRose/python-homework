{
 "cells": [
  {
   "cell_type": "code",
   "execution_count": 3,
   "id": "ecab6219-b5ff-470a-9995-b7391aa1853a",
   "metadata": {},
   "outputs": [],
   "source": [
    "#Import CSV\n",
    "\n",
    "from pathlib import Path\n",
    "import csv"
   ]
  },
  {
   "cell_type": "code",
   "execution_count": 19,
   "id": "67022525-74a0-49ed-8de7-4466071f116d",
   "metadata": {},
   "outputs": [],
   "source": [
    "#Set the path file\n",
    "\n",
    "csvpath = Path('budget_data.csv')\n",
    "Profit_Loss = []\n",
    "line_num = 0"
   ]
  },
  {
   "cell_type": "code",
   "execution_count": 20,
   "id": "63fe6d5c-120d-4f0d-a641-2e8fe4748a8e",
   "metadata": {},
   "outputs": [
    {
     "data": {
      "text/plain": [
       "PosixPath('budget_data.csv')"
      ]
     },
     "execution_count": 20,
     "metadata": {},
     "output_type": "execute_result"
    }
   ],
   "source": [
    "csvpath"
   ]
  },
  {
   "cell_type": "code",
   "execution_count": 38,
   "id": "a567dec1-cd10-4916-b386-c7d8ea7ce465",
   "metadata": {},
   "outputs": [],
   "source": [
    "with open(csvpath, 'r') as Budget_Data:\n",
    "    csvreader = csv.reader(Budget_Data, delimiter=',')\n",
    "    header = next(csvreader)\n",
    "    Profit_Loss = []\n",
    "    for row in Budget_Data:\n",
    "        pl = int(row[9:])\n",
    "        Profit_Loss.append(pl) \n",
    "Net_Profit_Loss = sum(Profit_Loss)\n"
   ]
  },
  {
   "cell_type": "code",
   "execution_count": 12,
   "id": "d5eb1dad-7094-42b8-a6c4-4b6de746aa63",
   "metadata": {},
   "outputs": [
    {
     "name": "stdout",
     "output_type": "stream",
     "text": [
      "<class '_csv.reader'>\n",
      "['Date', 'Profit/Losses'] <----HEADER\n",
      "Total Months 86\n"
     ]
    }
   ],
   "source": [
    "# Import and open CSV\n",
    "\n",
    "with open(csvpath, 'r') as csvfile:\n",
    "    csvreader = csv.reader(csvfile, delimiter=',')\n",
    "    print(type(csvreader))\n",
    "    \n",
    "    header = next(csvreader)\n",
    "    line_num += 1\n",
    "    \n",
    "    \n",
    "# Print the header \n",
    "    \n",
    "    print(f\"{header} <----HEADER\")\n",
    "        \n",
    "# Print each index in CSV file\n",
    "    total_months = 0\n",
    "    for row in csvreader:\n",
    "        total_months = total_months +1\n",
    "    print(\"Total Months\", total_months)\n",
    "    "
   ]
  },
  {
   "cell_type": "code",
   "execution_count": 12,
   "id": "ca6e7859-9ca5-48de-afcd-f55d13df2006",
   "metadata": {},
   "outputs": [
    {
     "name": "stdout",
     "output_type": "stream",
     "text": [
      "<class '_csv.reader'>\n",
      "['Date', 'Profit/Losses'] <----HEADER\n",
      "Total Months 86\n"
     ]
    }
   ],
   "source": [
    "# Import and open CSV\n",
    "\n",
    "with open(csvpath, 'r') as csvfile:\n",
    "    csvreader = csv.reader(csvfile, delimiter=',')\n",
    "    print(type(csvreader))\n",
    "    \n",
    "    header = next(csvreader)\n",
    "    line_num += 1\n",
    "    \n",
    "    \n",
    "# Print the header \n",
    "    \n",
    "    print(f\"{header} <----HEADER\")\n",
    "        \n",
    "# Print each index in CSV file\n",
    "    total_months = 0\n",
    "    for row in csvreader:\n",
    "        total_months = total_months +1\n",
    "    print(\"Total Months\", total_months)\n",
    "    "
   ]
  },
  {
   "cell_type": "code",
   "execution_count": 45,
   "id": "a17d8458-d1aa-42f5-8a94-2eeeca8dc0a9",
   "metadata": {},
   "outputs": [
    {
     "name": "stdout",
     "output_type": "stream",
     "text": [
      "446309.05\n"
     ]
    }
   ],
   "source": [
    "# # Get a list of data needed\n",
    "Total = 0\n",
    "Average_Change = 0\n",
    "min_salary = 0\n",
    "max_salary = 0\n",
    "\n",
    "#Get the average change in profit/loss\n",
    "with open(csvpath, 'r') as csvfile:\n",
    "    csvreader = csv.reader(csvfile, delimiter=',')\n",
    "    Average_Change = round(Net_Profit_Loss / total_months, 2)\n",
    "print(Average_Change)\n",
    "\n",
    "#Find Min and Max Profit Loss\n",
    "with open(csvpath, 'r') as csvfile:\n",
    "    csvreader = csv.reader(csvfile, delimiter=',')\n",
    "\n",
    "    for salary in Profit_Loss:\n",
    "        if min_salary == 0:\n",
    "            min_salary = salary\n",
    "        elif salary > max_salary:\n",
    "            max_salary = salary\n",
    "        elif salary < min_salary:\n",
    "            min_salary = salary\n",
    "    "
   ]
  },
  {
   "cell_type": "code",
   "execution_count": 18,
   "id": "2455d1ef-271b-453c-9e16-c7b8d948eae2",
   "metadata": {},
   "outputs": [
    {
     "data": {
      "text/plain": [
       "<_io.TextIOWrapper name='../PyBank/budget_data.csv' mode='r' encoding='UTF-8'>"
      ]
     },
     "execution_count": 18,
     "metadata": {},
     "output_type": "execute_result"
    }
   ],
   "source": [
    "Budget_Data"
   ]
  },
  {
   "cell_type": "code",
   "execution_count": 51,
   "id": "f7cb71fc-3952-4e48-8a26-dc34d64e83ba",
   "metadata": {},
   "outputs": [
    {
     "name": "stdout",
     "output_type": "stream",
     "text": [
      "Financial Analysis\n",
      "-------------------\n",
      "Total Months: 86\n",
      "Net Profit Loss: 38382578\n",
      "Average Change in Profit/Loss: 446309.05\n",
      "Max Profit Loss 1170593\n",
      "Min Profit Loss -1196225\n"
     ]
    }
   ],
   "source": [
    "print(\"Financial Analysis\")\n",
    "print(\"-------------------\")\n",
    "print(\"Total Months:\", total_months)\n",
    "print(\"Net Profit Loss:\", Net_Profit_Loss)\n",
    "print(\"Average Change in Profit/Loss:\", Average_Change)\n",
    "print(\"Max Profit Loss\", max_salary)\n",
    "print(\"Min Profit Loss\", min_salary)"
   ]
  },
  {
   "cell_type": "code",
   "execution_count": null,
   "id": "06fd77c3-89c0-4dc1-8f18-a04b6d32d941",
   "metadata": {},
   "outputs": [],
   "source": []
  }
 ],
 "metadata": {
  "kernelspec": {
   "display_name": "Python 3 (ipykernel)",
   "language": "python",
   "name": "python3"
  },
  "language_info": {
   "codemirror_mode": {
    "name": "ipython",
    "version": 3
   },
   "file_extension": ".py",
   "mimetype": "text/x-python",
   "name": "python",
   "nbconvert_exporter": "python",
   "pygments_lexer": "ipython3",
   "version": "3.7.11"
  }
 },
 "nbformat": 4,
 "nbformat_minor": 5
}
